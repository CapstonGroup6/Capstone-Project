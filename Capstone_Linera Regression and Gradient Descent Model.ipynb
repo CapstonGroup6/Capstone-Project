{
 "cells": [
  {
   "cell_type": "code",
   "execution_count": 1,
   "id": "8f0065f3-6806-4e56-8338-0a2a5e2fad3d",
   "metadata": {},
   "outputs": [
    {
     "name": "stderr",
     "output_type": "stream",
     "text": [
      "C:\\Users\\ishan\\anaconda3\\envs\\DAB200\\lib\\site-packages\\scipy\\__init__.py:146: UserWarning: A NumPy version >=1.16.5 and <1.23.0 is required for this version of SciPy (detected version 1.24.2\n",
      "  warnings.warn(f\"A NumPy version >={np_minversion} and <{np_maxversion}\"\n"
     ]
    }
   ],
   "source": [
    "import pandas as pd\n",
    "import numpy as np\n",
    "from sklearn.linear_model import LinearRegression\n",
    "from sklearn.metrics import mean_squared_error\n",
    "import matplotlib.pyplot as plt"
   ]
  },
  {
   "cell_type": "markdown",
   "id": "abe88410-7d07-4bbe-9943-45d086240d95",
   "metadata": {},
   "source": [
    "# Nursin Unit - CC3_HDG"
   ]
  },
  {
   "cell_type": "code",
   "execution_count": 2,
   "id": "ccd5f934-118f-4e0f-ac54-3895ad8945e1",
   "metadata": {
    "tags": []
   },
   "outputs": [],
   "source": [
    "# Load the data into a pandas dataframe\n",
    "CC3_HDG = pd.read_excel(\"hospital_data.xlsx\")"
   ]
  },
  {
   "cell_type": "code",
   "execution_count": 3,
   "id": "b22e7855-d433-478c-a118-bc518a9cdf73",
   "metadata": {
    "tags": []
   },
   "outputs": [],
   "source": [
    "CC3_HDG['Number of Patients'] = CC3_HDG['Number of Patients'].fillna(0)\n",
    "CC3_HDG['Number of New Admissions'] = CC3_HDG['Number of New Admissions'].fillna(0)"
   ]
  },
  {
   "cell_type": "code",
   "execution_count": 4,
   "id": "60756b38-e0c4-4b8b-9357-b5ddd905230d",
   "metadata": {
    "tags": []
   },
   "outputs": [],
   "source": [
    "# Create new columns for the total treatment time and new admission time required per day (in hours)\n",
    "CC3_HDG[\"Total Treatment Time\"] = CC3_HDG[\"Number of Patients\"] * 0.5\n",
    "CC3_HDG[\"New Admission Time\"] = CC3_HDG[\"Number of New Admissions\"] * 0.75"
   ]
  },
  {
   "cell_type": "code",
   "execution_count": 5,
   "id": "0ed403c5-e637-43cd-8dd8-5d3432b37c05",
   "metadata": {
    "tags": []
   },
   "outputs": [],
   "source": [
    "# Convert the 'Census Day' column to datetime objects\n",
    "CC3_HDG['Census Day'] = pd.to_datetime(CC3_HDG['Census Day'])"
   ]
  },
  {
   "cell_type": "code",
   "execution_count": 6,
   "id": "0ef370d8-002a-45a4-9da6-7b17782f369a",
   "metadata": {
    "tags": []
   },
   "outputs": [],
   "source": [
    "# Define the feature and target variables\n",
    "X = CC3_HDG.drop([\"Number of Patients\", \"Number of New Admissions\", \"Total Treatment Time\", \"New Admission Time\"], axis=1)  # Use only the date column as feature\n",
    "y = (CC3_HDG[\"Total Treatment Time\"] + CC3_HDG[\"New Admission Time\"])/(7.5)"
   ]
  },
  {
   "cell_type": "code",
   "execution_count": 7,
   "id": "f0aed4f0-a0cd-4263-942e-74326d4dd8df",
   "metadata": {
    "tags": []
   },
   "outputs": [],
   "source": [
    "# Extract the ordinal value of the dates and store them in a numpy array\n",
    "X = np.array([day.toordinal() for day in CC3_HDG['Census Day']])"
   ]
  },
  {
   "cell_type": "code",
   "execution_count": 8,
   "id": "e48f5f72-368c-428b-ab44-cc173376b364",
   "metadata": {
    "tags": []
   },
   "outputs": [],
   "source": [
    "# Reshape the input X to a 2D array with a single feature column\n",
    "X = X.reshape(-1, 1)"
   ]
  },
  {
   "cell_type": "code",
   "execution_count": 9,
   "id": "0799257f-9cbf-43bf-96ae-d71f19eedb16",
   "metadata": {
    "tags": []
   },
   "outputs": [
    {
     "data": {
      "text/plain": [
       "LinearRegression()"
      ]
     },
     "execution_count": 9,
     "metadata": {},
     "output_type": "execute_result"
    }
   ],
   "source": [
    "# Create a linear regression model and fit it to the data\n",
    "lr = LinearRegression()\n",
    "lr.fit(X, y)"
   ]
  },
  {
   "cell_type": "code",
   "execution_count": 10,
   "id": "d1f4ef01-27ef-43a6-a7f3-3b526cca0727",
   "metadata": {
    "tags": []
   },
   "outputs": [
    {
     "name": "stdout",
     "output_type": "stream",
     "text": [
      "Coefficients: [0.00086103]\n",
      "Intercept: -634.3594770533754\n"
     ]
    }
   ],
   "source": [
    "# Make predictions on the training data\n",
    "y_pred = lr.predict(X)\n",
    "\n",
    "# Calculate the mean squared error\n",
    "mse = mean_squared_error(y, y_pred)\n",
    "\n",
    "# Print the coefficients and intercept of the linear regression model\n",
    "print(\"Coefficients:\", lr.coef_)\n",
    "print(\"Intercept:\", lr.intercept_)"
   ]
  },
  {
   "cell_type": "code",
   "execution_count": 11,
   "id": "17461b91-313f-4f20-9a2d-546bc2b4592a",
   "metadata": {
    "tags": []
   },
   "outputs": [
    {
     "data": {
      "image/png": "[encoded data removed]",
      "text/plain": [
       "<Figure size 432x288 with 1 Axes>"
      ]
     },
     "metadata": {
      "needs_background": "light"
     },
     "output_type": "display_data"
    }
   ],
   "source": [
    "# Plot the actual vs. predicted values\n",
    "plt.plot(X, y, \"o\", label=\"Actual\")\n",
    "plt.plot(X, y_pred, label=\"Predicted\")\n",
    "plt.xlabel(\"Date\")\n",
    "plt.ylabel(\"Total Treatment Time + New Admission Time (hours)\")\n",
    "plt.legend()\n",
    "plt.show()"
   ]
  },
  {
   "cell_type": "code",
   "execution_count": 12,
   "id": "664d84e9-f2c6-4217-bb0d-bd62e977c4aa",
   "metadata": {
    "tags": []
   },
   "outputs": [
    {
     "name": "stdout",
     "output_type": "stream",
     "text": [
      "Average of predicted doctors required for CC3_HDG department is: 1.1364383561643667\n"
     ]
    }
   ],
   "source": [
    "avg_pred = np.mean(y_pred)\n",
    "\n",
    "print(\"Average of predicted doctors required for CC3_HDG department is:\", avg_pred)"
   ]
  },
  {
   "cell_type": "markdown",
   "id": "6e0e965a-cae5-49b3-848c-9cd1f22a17dc",
   "metadata": {},
   "source": [
    "## Gradient Boosting Model"
   ]
  },
  {
   "cell_type": "code",
   "execution_count": 13,
   "id": "f17e702e-0b95-45bf-a491-4e67cfcdf6d0",
   "metadata": {
    "tags": []
   },
   "outputs": [],
   "source": [
    "from sklearn.model_selection import train_test_split\n",
    "from sklearn.ensemble import GradientBoostingRegressor\n",
    "from sklearn.metrics import mean_squared_error"
   ]
  },
  {
   "cell_type": "code",
   "execution_count": 14,
   "id": "b196c86c",
   "metadata": {},
   "outputs": [],
   "source": [
    "# Split the data into training and testing sets\n",
    "X_train, X_test, y_train, y_test = train_test_split(X, y, test_size=0.2)"
   ]
  },
  {
   "cell_type": "code",
   "execution_count": 15,
   "id": "665a303f-5542-469c-9e47-adc1231ffb92",
   "metadata": {},
   "outputs": [],
   "source": [
    "gb = GradientBoostingRegressor(n_estimators=500, learning_rate=0.05, max_depth=1, random_state=100, loss='squared_error')\n",
    "gb.fit(X_train, y_train)\n",
    "\n",
    "# Make predictions on the training data\n",
    "y_pred_gb = gb.predict(X_test)\n",
    "\n",
    "# Calculate the mean squared error\n",
    "mse_gb = mean_squared_error(y_test, y_pred_gb)"
   ]
  },
  {
   "cell_type": "code",
   "execution_count": 16,
   "id": "912a8387-8165-4a34-b0c4-a4518a82ec51",
   "metadata": {
    "tags": []
   },
   "outputs": [
    {
     "name": "stdout",
     "output_type": "stream",
     "text": [
      "Mean Squared Error: 0.00516612895781638\n",
      "Accuracy: 0.7299654779328992\n"
     ]
    }
   ],
   "source": [
    "# Print the coefficients and intercept of the linear regression model\n",
    "print(\"Mean Squared Error:\", mse_gb)\n",
    "print(\"Accuracy:\", gb.score(X_train, y_train))"
   ]
  },
  {
   "cell_type": "code",
   "execution_count": 17,
   "id": "e9966bf8",
   "metadata": {},
   "outputs": [
    {
     "data": {
      "text/plain": [
       "0.7213720273645149"
      ]
     },
     "execution_count": 17,
     "metadata": {},
     "output_type": "execute_result"
    }
   ],
   "source": [
    "gb.score(X_test, y_test)"
   ]
  },
  {
   "cell_type": "code",
   "execution_count": 18,
   "id": "21b2fd67-7159-49a2-a1cd-fe827fe0069d",
   "metadata": {
    "tags": []
   },
   "outputs": [
    {
     "name": "stdout",
     "output_type": "stream",
     "text": [
      "Predicted values: [1.19184609 1.22279118 1.027733   1.06989719 1.03598902 1.24726465\n",
      " 1.24726465 1.10942726 1.09113785 1.23333174 1.10942726 1.10942726\n",
      " 1.027733   1.22279118 1.16011346 1.24726465 1.24726465 0.82445578\n",
      " 1.06989719 1.01135326 1.027733   1.027733   1.09113785 1.027733\n",
      " 1.23333174 1.22279118 1.01135326 1.10942726 0.82445578 1.24726465\n",
      " 1.23333174 1.16011346 1.19184609 1.08567853 1.027733   1.01135326\n",
      " 1.19184609 1.13395434 1.01135326 1.08567853 1.08567853 1.19184609\n",
      " 1.19184609 1.24726465 1.24726465 1.10942726 1.01135326 1.22279118\n",
      " 1.22279118 1.10942726 1.08567853 1.01135326 1.027733   1.19184609\n",
      " 1.16011346 1.09113785 1.027733   1.24726465 1.01135326 1.027733\n",
      " 1.23333174 1.22279118 1.10942726 1.23333174 1.22279118 1.22279118\n",
      " 1.23333174 1.20173753 1.19184609 1.027733   1.08567853 1.22279118\n",
      " 0.81285805]\n"
     ]
    }
   ],
   "source": [
    "print(\"Predicted values:\", y_pred_gb)"
   ]
  },
  {
   "cell_type": "code",
   "execution_count": 19,
   "id": "9ae911bf-69a1-48c3-aefc-fe9205771a79",
   "metadata": {
    "tags": []
   },
   "outputs": [
    {
     "name": "stdout",
     "output_type": "stream",
     "text": [
      "Overall average number of doctors required for CC3_HDG department: 1.123347068666334\n"
     ]
    }
   ],
   "source": [
    "# Calculate the overall average number of doctors required\n",
    "avg_doctors_required = np.mean(y_pred_gb)\n",
    "\n",
    "print(\"Overall average number of doctors required for CC3_HDG department:\", avg_doctors_required)"
   ]
  },
  {
   "cell_type": "code",
   "execution_count": 20,
   "id": "ff65c649-cd6e-44f5-b87d-73479c477220",
   "metadata": {},
   "outputs": [
    {
     "name": "stdout",
     "output_type": "stream",
     "text": [
      "Best Parameters: {'learning_rate': 0.1, 'n_estimators': 100}\n",
      "Train Score: 0.785205759565836\n",
      "Test Score: 0.8256051545297987\n"
     ]
    }
   ],
   "source": [
    "from sklearn.model_selection import GridSearchCV\n",
    "\n",
    "grid = {\n",
    "\n",
    "    'learning_rate':[0.01,0.05,0.1],\n",
    "\n",
    "    'n_estimators':np.arange(100,500,100),\n",
    "\n",
    "}\n",
    "\n",
    "\n",
    "gb = GradientBoostingRegressor()\n",
    "\n",
    "gb_cv = GridSearchCV(gb, grid, cv = 4)\n",
    "\n",
    "gb_cv.fit(X_train,y_train)\n",
    "\n",
    "print(\"Best Parameters:\",gb_cv.best_params_)\n",
    "\n",
    "print(\"Train Score:\",gb_cv.best_score_)\n",
    "\n",
    "print(\"Test Score:\",gb_cv.score(X_test,y_test))"
   ]
  },
  {
   "cell_type": "code",
   "execution_count": 21,
   "id": "70e4886c",
   "metadata": {},
   "outputs": [
    {
     "name": "stdout",
     "output_type": "stream",
     "text": [
      "Accuracy: 0.9342757205718003\n",
      "SCore: 0.8256051545297987\n"
     ]
    }
   ],
   "source": [
    "print(\"Accuracy:\", gb_cv.score(X_train, y_train))\n",
    "print(\"SCore:\", gb_cv.score(X_test, y_test))"
   ]
  },
  {
   "cell_type": "markdown",
   "id": "02742d23-bf5a-4b04-8739-648b42f6a985",
   "metadata": {},
   "source": [
    "# Nursing Unit - CC4_HDG"
   ]
  },
  {
   "cell_type": "code",
   "execution_count": 22,
   "id": "befd444b-1174-49fa-847b-e94cea9b2e14",
   "metadata": {},
   "outputs": [],
   "source": [
    "# Load the data into a pandas dataframe\n",
    "CC4_HDG = pd.read_excel(\"hospital_data_CC4_HDG.xlsx\")"
   ]
  },
  {
   "cell_type": "code",
   "execution_count": 23,
   "id": "3d4f4158-cb15-46ee-8b13-9979f290c852",
   "metadata": {},
   "outputs": [],
   "source": [
    "CC4_HDG['Number of Patients'] = CC4_HDG['Number of Patients'].fillna(0)\n",
    "CC4_HDG['Number of New Admissions'] = CC4_HDG['Number of New Admissions'].fillna(0)"
   ]
  },
  {
   "cell_type": "code",
   "execution_count": 24,
   "id": "ecc531f0-f8c1-46b0-8077-cbea8d2c7a8e",
   "metadata": {},
   "outputs": [],
   "source": [
    "# Create new columns for the total treatment time and new admission time required per day (in hours)\n",
    "CC4_HDG[\"Total Treatment Time\"] = CC4_HDG[\"Number of Patients\"] * 0.5\n",
    "CC4_HDG[\"New Admission Time\"] = CC4_HDG[\"Number of New Admissions\"] * 0.75"
   ]
  },
  {
   "cell_type": "code",
   "execution_count": 25,
   "id": "17e72cc6-2c13-4112-9c96-9286f38cf74d",
   "metadata": {},
   "outputs": [],
   "source": [
    "# Convert the 'Census Day' column to datetime objects\n",
    "CC4_HDG['Census Day'] = pd.to_datetime(CC4_HDG['Census Day'])"
   ]
  },
  {
   "cell_type": "code",
   "execution_count": 26,
   "id": "5aee019e-a850-49aa-ae29-ee532c2a545d",
   "metadata": {},
   "outputs": [
    {
     "data": {
      "text/html": [
       "<div>\n",
       "<style scoped>\n",
       "    .dataframe tbody tr th:only-of-type {\n",
       "        vertical-align: middle;\n",
       "    }\n",
       "\n",
       "    .dataframe tbody tr th {\n",
       "        vertical-align: top;\n",
       "    }\n",
       "\n",
       "    .dataframe thead th {\n",
       "        text-align: right;\n",
       "    }\n",
       "</style>\n",
       "<table border=\"1\" class=\"dataframe\">\n",
       "  <thead>\n",
       "    <tr style=\"text-align: right;\">\n",
       "      <th></th>\n",
       "      <th>Census Day</th>\n",
       "      <th>Number of Patients</th>\n",
       "      <th>Number of New Admissions</th>\n",
       "      <th>Total Treatment Time</th>\n",
       "      <th>New Admission Time</th>\n",
       "    </tr>\n",
       "  </thead>\n",
       "  <tbody>\n",
       "    <tr>\n",
       "      <th>0</th>\n",
       "      <td>2021-04-01</td>\n",
       "      <td>15</td>\n",
       "      <td>0.0</td>\n",
       "      <td>7.5</td>\n",
       "      <td>0.0</td>\n",
       "    </tr>\n",
       "    <tr>\n",
       "      <th>1</th>\n",
       "      <td>2021-04-02</td>\n",
       "      <td>15</td>\n",
       "      <td>0.0</td>\n",
       "      <td>7.5</td>\n",
       "      <td>0.0</td>\n",
       "    </tr>\n",
       "    <tr>\n",
       "      <th>2</th>\n",
       "      <td>2021-04-03</td>\n",
       "      <td>15</td>\n",
       "      <td>0.0</td>\n",
       "      <td>7.5</td>\n",
       "      <td>0.0</td>\n",
       "    </tr>\n",
       "    <tr>\n",
       "      <th>3</th>\n",
       "      <td>2021-04-04</td>\n",
       "      <td>15</td>\n",
       "      <td>0.0</td>\n",
       "      <td>7.5</td>\n",
       "      <td>0.0</td>\n",
       "    </tr>\n",
       "    <tr>\n",
       "      <th>4</th>\n",
       "      <td>2021-04-05</td>\n",
       "      <td>15</td>\n",
       "      <td>0.0</td>\n",
       "      <td>7.5</td>\n",
       "      <td>0.0</td>\n",
       "    </tr>\n",
       "    <tr>\n",
       "      <th>...</th>\n",
       "      <td>...</td>\n",
       "      <td>...</td>\n",
       "      <td>...</td>\n",
       "      <td>...</td>\n",
       "      <td>...</td>\n",
       "    </tr>\n",
       "    <tr>\n",
       "      <th>360</th>\n",
       "      <td>2022-03-27</td>\n",
       "      <td>15</td>\n",
       "      <td>0.0</td>\n",
       "      <td>7.5</td>\n",
       "      <td>0.0</td>\n",
       "    </tr>\n",
       "    <tr>\n",
       "      <th>361</th>\n",
       "      <td>2022-03-28</td>\n",
       "      <td>15</td>\n",
       "      <td>0.0</td>\n",
       "      <td>7.5</td>\n",
       "      <td>0.0</td>\n",
       "    </tr>\n",
       "    <tr>\n",
       "      <th>362</th>\n",
       "      <td>2022-03-29</td>\n",
       "      <td>16</td>\n",
       "      <td>0.0</td>\n",
       "      <td>8.0</td>\n",
       "      <td>0.0</td>\n",
       "    </tr>\n",
       "    <tr>\n",
       "      <th>363</th>\n",
       "      <td>2022-03-30</td>\n",
       "      <td>16</td>\n",
       "      <td>0.0</td>\n",
       "      <td>8.0</td>\n",
       "      <td>0.0</td>\n",
       "    </tr>\n",
       "    <tr>\n",
       "      <th>364</th>\n",
       "      <td>2022-03-31</td>\n",
       "      <td>16</td>\n",
       "      <td>0.0</td>\n",
       "      <td>8.0</td>\n",
       "      <td>0.0</td>\n",
       "    </tr>\n",
       "  </tbody>\n",
       "</table>\n",
       "<p>365 rows × 5 columns</p>\n",
       "</div>"
      ],
      "text/plain": [
       "    Census Day  Number of Patients  Number of New Admissions  \\\n",
       "0   2021-04-01                  15                       0.0   \n",
       "1   2021-04-02                  15                       0.0   \n",
       "2   2021-04-03                  15                       0.0   \n",
       "3   2021-04-04                  15                       0.0   \n",
       "4   2021-04-05                  15                       0.0   \n",
       "..         ...                 ...                       ...   \n",
       "360 2022-03-27                  15                       0.0   \n",
       "361 2022-03-28                  15                       0.0   \n",
       "362 2022-03-29                  16                       0.0   \n",
       "363 2022-03-30                  16                       0.0   \n",
       "364 2022-03-31                  16                       0.0   \n",
       "\n",
       "     Total Treatment Time  New Admission Time  \n",
       "0                     7.5                 0.0  \n",
       "1                     7.5                 0.0  \n",
       "2                     7.5                 0.0  \n",
       "3                     7.5                 0.0  \n",
       "4                     7.5                 0.0  \n",
       "..                    ...                 ...  \n",
       "360                   7.5                 0.0  \n",
       "361                   7.5                 0.0  \n",
       "362                   8.0                 0.0  \n",
       "363                   8.0                 0.0  \n",
       "364                   8.0                 0.0  \n",
       "\n",
       "[365 rows x 5 columns]"
      ]
     },
     "execution_count": 26,
     "metadata": {},
     "output_type": "execute_result"
    }
   ],
   "source": [
    "CC4_HDG"
   ]
  },
  {
   "cell_type": "code",
   "execution_count": 27,
   "id": "403ff619-8ed7-4613-beb1-fb740df8c4b4",
   "metadata": {},
   "outputs": [],
   "source": [
    "# Define the feature and target variables\n",
    "X1 = CC4_HDG.drop([\"Number of Patients\", \"Number of New Admissions\", \"Total Treatment Time\", \"New Admission Time\"], axis=1)  # Use only the date column as feature\n",
    "y1 = (CC4_HDG[\"Total Treatment Time\"] + CC4_HDG[\"New Admission Time\"])/(7.5)"
   ]
  },
  {
   "cell_type": "code",
   "execution_count": 28,
   "id": "36da1f38-1172-4ccc-884d-8f6506761cd4",
   "metadata": {},
   "outputs": [],
   "source": [
    "# Extract the ordinal value of the dates and store them in a numpy array\n",
    "X1 = np.array([day.toordinal() for day in CC4_HDG['Census Day']])"
   ]
  },
  {
   "cell_type": "code",
   "execution_count": 29,
   "id": "4faaf67e-e0ac-49e8-9a92-fe8561dbc271",
   "metadata": {},
   "outputs": [],
   "source": [
    "# Reshape the input X to a 2D array with a single feature column\n",
    "X1 = X1.reshape(-1, 1)"
   ]
  },
  {
   "cell_type": "code",
   "execution_count": 30,
   "id": "7c060061-6ce4-4d5d-8ef9-bca5fda778cb",
   "metadata": {},
   "outputs": [
    {
     "data": {
      "text/plain": [
       "LinearRegression()"
      ]
     },
     "execution_count": 30,
     "metadata": {},
     "output_type": "execute_result"
    }
   ],
   "source": [
    "# Create a linear regression model and fit it to the data\n",
    "lr1 = LinearRegression()\n",
    "lr1.fit(X1, y1)"
   ]
  },
  {
   "cell_type": "code",
   "execution_count": 31,
   "id": "4ab9afa9-3b54-4dc8-8c94-0a9099a06545",
   "metadata": {},
   "outputs": [
    {
     "name": "stdout",
     "output_type": "stream",
     "text": [
      "Coefficients: [0.00060657]\n",
      "Intercept: -446.5726273599143\n"
     ]
    }
   ],
   "source": [
    "# Make predictions on the training data\n",
    "y_pred1 = lr1.predict(X1)\n",
    "\n",
    "# Calculate the mean squared error\n",
    "mse1 = mean_squared_error(y1, y_pred1)\n",
    "\n",
    "# Print the coefficients and intercept of the linear regression model\n",
    "print(\"Coefficients:\", lr1.coef_)\n",
    "print(\"Intercept:\", lr1.intercept_)"
   ]
  },
  {
   "cell_type": "code",
   "execution_count": 32,
   "id": "6dd0b266-b773-41e2-98af-3c17adccb7ab",
   "metadata": {},
   "outputs": [
    {
     "data": {
      "image/png": "[encoded data removed]",
      "text/plain": [
       "<Figure size 432x288 with 1 Axes>"
      ]
     },
     "metadata": {
      "needs_background": "light"
     },
     "output_type": "display_data"
    }
   ],
   "source": [
    "# Plot the actual vs. predicted values\n",
    "plt.plot(X1, y1, \"o\", label=\"Actual\")\n",
    "plt.plot(X1, y_pred1, label=\"Predicted\")\n",
    "plt.xlabel(\"Date\")\n",
    "plt.ylabel(\"Total Treatment Time + New Admission Time (hours)\")\n",
    "plt.legend()\n",
    "plt.show()"
   ]
  },
  {
   "cell_type": "code",
   "execution_count": 33,
   "id": "7a3cd24f-c6f6-4522-8b23-e7b08fa5349b",
   "metadata": {},
   "outputs": [
    {
     "name": "stdout",
     "output_type": "stream",
     "text": [
      "Average of predicted doctors required for CC4_HDG department is: 1.1152511415525126\n"
     ]
    }
   ],
   "source": [
    "avg_pred1 = np.mean(y_pred1)\n",
    "\n",
    "print(\"Average of predicted doctors required for CC4_HDG department is:\", avg_pred1)"
   ]
  },
  {
   "cell_type": "markdown",
   "id": "fdf67119-ded1-4211-9b2a-a9e6dfa5ae37",
   "metadata": {},
   "source": [
    "## Gradient Boosting Model"
   ]
  },
  {
   "cell_type": "code",
   "execution_count": 34,
   "id": "69778764-e2d6-41fd-bbf8-548d87efe8cb",
   "metadata": {},
   "outputs": [],
   "source": [
    "# Split the data into training and testing sets\n",
    "X_train1, X_test1, y_train1, y_test1 = train_test_split(X1, y1, test_size=0.2)"
   ]
  },
  {
   "cell_type": "code",
   "execution_count": 35,
   "id": "c98311d7-bb54-4935-a8b2-6f47ddae8d3c",
   "metadata": {},
   "outputs": [],
   "source": [
    "gb1 = GradientBoostingRegressor(n_estimators=500, learning_rate=0.05, max_depth=1, random_state=100, loss='squared_error')\n",
    "gb1.fit(X_train1, y_train1)\n",
    "\n",
    "# Make predictions on the training data\n",
    "y_pred_gb1 = gb1.predict(X_test1)\n",
    "\n",
    "# Calculate the mean squared error\n",
    "mse_gb1 = mean_squared_error(y_test1, y_pred_gb1)"
   ]
  },
  {
   "cell_type": "code",
   "execution_count": 36,
   "id": "2357c07e-c57a-4817-8631-4151bd7ef177",
   "metadata": {},
   "outputs": [
    {
     "name": "stdout",
     "output_type": "stream",
     "text": [
      "Mean Squared Error: 0.005019233071503423\n",
      "Accuracy: 0.6954044059790923\n"
     ]
    }
   ],
   "source": [
    "# Print the coefficients and intercept of the linear regression model\n",
    "print(\"Mean Squared Error:\", mse_gb1)\n",
    "print(\"Accuracy:\", gb1.score(X_train1, y_train1))"
   ]
  },
  {
   "cell_type": "code",
   "execution_count": 37,
   "id": "64723d8b-e789-472a-ae12-cd8551644966",
   "metadata": {},
   "outputs": [
    {
     "data": {
      "text/plain": [
       "0.7456817979395118"
      ]
     },
     "execution_count": 37,
     "metadata": {},
     "output_type": "execute_result"
    }
   ],
   "source": [
    "gb1.score(X_test1, y_test1)"
   ]
  },
  {
   "cell_type": "code",
   "execution_count": 38,
   "id": "6c96f381-5ec9-4d0c-86d6-97bbb3f51ab4",
   "metadata": {},
   "outputs": [
    {
     "name": "stdout",
     "output_type": "stream",
     "text": [
      "Predicted values: [1.06019497 0.99102574 1.05473044 1.06019497 1.2184323  1.03796885\n",
      " 1.05473044 1.2184323  1.21535702 1.2184323  1.01634012 1.06019497\n",
      " 1.2184323  0.99102574 1.21535702 1.21535702 0.99102574 1.19739605\n",
      " 0.99102574 1.01634012 1.25514889 0.99102574 0.99102574 0.95651075\n",
      " 1.19739605 0.95651075 0.95651075 0.99885173 1.20084965 0.95651075\n",
      " 0.99102574 1.21535702 1.25514889 1.2184323  1.25514889 0.99102574\n",
      " 1.21535702 1.03796885 1.06019497 1.19739605 1.06019497 1.02043833\n",
      " 1.2184323  0.99102574 0.99102574 1.06019497 1.19739605 1.01634012\n",
      " 1.06019497 0.99885173 1.25514889 1.2184323  1.21535702 1.19392521\n",
      " 1.2184323  1.19392521 1.14297364 1.25514889 1.14297364 1.2184323\n",
      " 1.19739605 1.06687957 1.21535702 1.2184323  1.19739605 0.99102574\n",
      " 1.05473044 0.99885173 1.19739605 1.2184323  1.21535702 1.21535702\n",
      " 1.14297364]\n"
     ]
    }
   ],
   "source": [
    "print(\"Predicted values:\", y_pred_gb1)"
   ]
  },
  {
   "cell_type": "code",
   "execution_count": 39,
   "id": "189c1a6e-af86-4931-9daa-84fba0c69617",
   "metadata": {},
   "outputs": [
    {
     "name": "stdout",
     "output_type": "stream",
     "text": [
      "Overall average number of doctors required for CC4_HDG department: 1.1169564328371873\n"
     ]
    }
   ],
   "source": [
    "# Calculate the overall average number of doctors required\n",
    "avg_doctors_required1 = np.mean(y_pred_gb1)\n",
    "\n",
    "print(\"Overall average number of doctors required for CC4_HDG department:\", avg_doctors_required1)"
   ]
  },
  {
   "cell_type": "code",
   "execution_count": 40,
   "id": "28c5198c-eb82-411e-a9e3-0fc7f2e3dd65",
   "metadata": {},
   "outputs": [
    {
     "name": "stdout",
     "output_type": "stream",
     "text": [
      "Best Parameters: {'learning_rate': 0.05, 'n_estimators': 400}\n",
      "Train Score: 0.8377564248730909\n",
      "Test Score: 0.8690965331740891\n"
     ]
    }
   ],
   "source": [
    "from sklearn.model_selection import GridSearchCV\n",
    "\n",
    "grid = {\n",
    "\n",
    "    'learning_rate':[0.01,0.05,0.1],\n",
    "\n",
    "    'n_estimators':np.arange(100,500,100),\n",
    "\n",
    "}\n",
    "\n",
    "\n",
    "gb1 = GradientBoostingRegressor()\n",
    "\n",
    "gb_cv1 = GridSearchCV(gb1, grid, cv = 4)\n",
    "\n",
    "gb_cv1.fit(X_train1,y_train1)\n",
    "\n",
    "print(\"Best Parameters:\",gb_cv1.best_params_)\n",
    "\n",
    "print(\"Train Score:\",gb_cv1.best_score_)\n",
    "\n",
    "print(\"Test Score:\",gb_cv1.score(X_test1,y_test1))"
   ]
  },
  {
   "cell_type": "code",
   "execution_count": 41,
   "id": "270c36d5-ec63-47fe-ae53-33d15352ae13",
   "metadata": {},
   "outputs": [
    {
     "name": "stdout",
     "output_type": "stream",
     "text": [
      "Accuracy: 0.9702100661535358\n",
      "SCore: 0.8690965331740891\n"
     ]
    }
   ],
   "source": [
    "print(\"Accuracy:\", gb_cv1.score(X_train1, y_train1))\n",
    "print(\"SCore:\", gb_cv1.score(X_test1, y_test1))"
   ]
  },
  {
   "cell_type": "markdown",
   "id": "3cd71e8f-c5d3-4953-a6f3-d05d5f29eef5",
   "metadata": {},
   "source": [
    "# Nursing Unit - CC5_HDG"
   ]
  },
  {
   "cell_type": "code",
   "execution_count": 42,
   "id": "aea32822-a433-4ea4-acd7-c70893b35abe",
   "metadata": {},
   "outputs": [],
   "source": [
    "# Load the data into a pandas dataframe\n",
    "CC5_HDG = pd.read_excel(\"hospital_data_CC5_HDG.xlsx\")"
   ]
  },
  {
   "cell_type": "code",
   "execution_count": 43,
   "id": "e871643d-9799-40ad-8b74-f4df63e5bbe6",
   "metadata": {},
   "outputs": [],
   "source": [
    "CC5_HDG['Number of Patients'] = CC5_HDG['Number of Patients'].fillna(0)\n",
    "CC5_HDG['Number of New Admissions'] = CC5_HDG['Number of New Admissions'].fillna(0)"
   ]
  },
  {
   "cell_type": "code",
   "execution_count": 44,
   "id": "3ec5bfed-5dbb-4106-a892-525d559a2af7",
   "metadata": {},
   "outputs": [],
   "source": [
    "# Create new columns for the total treatment time and new admission time required per day (in hours)\n",
    "CC5_HDG[\"Total Treatment Time\"] = CC5_HDG[\"Number of Patients\"] * 0.5\n",
    "CC5_HDG[\"New Admission Time\"] = CC5_HDG[\"Number of New Admissions\"] * 0.75"
   ]
  },
  {
   "cell_type": "code",
   "execution_count": 45,
   "id": "46db03b7-ad9b-4a98-a6d1-740bc39f548c",
   "metadata": {},
   "outputs": [],
   "source": [
    "# Convert the 'Census Day' column to datetime objects\n",
    "CC5_HDG['Census Day'] = pd.to_datetime(CC5_HDG['Census Day'])"
   ]
  },
  {
   "cell_type": "code",
   "execution_count": 46,
   "id": "44b602a3-63c5-418b-b402-dbfe96ec8d9b",
   "metadata": {},
   "outputs": [],
   "source": [
    "# Define the feature and target variables\n",
    "X2 = CC5_HDG.drop([\"Number of Patients\", \"Number of New Admissions\", \"Total Treatment Time\", \"New Admission Time\"], axis=1)  # Use only the date column as feature\n",
    "y2 = (CC5_HDG[\"Total Treatment Time\"] + CC5_HDG[\"New Admission Time\"])/(7.5)"
   ]
  },
  {
   "cell_type": "code",
   "execution_count": 47,
   "id": "8f43305d-0ded-4cbb-bc68-94b0ae3eb253",
   "metadata": {},
   "outputs": [],
   "source": [
    "# Extract the ordinal value of the dates and store them in a numpy array\n",
    "X2 = np.array([day.toordinal() for day in CC5_HDG['Census Day']])"
   ]
  },
  {
   "cell_type": "code",
   "execution_count": 48,
   "id": "dde12eb9-b1d5-4e41-aed4-12c449e94a9f",
   "metadata": {},
   "outputs": [],
   "source": [
    "# Reshape the input X to a 2D array with a single feature column\n",
    "X2 = X2.reshape(-1, 1)"
   ]
  },
  {
   "cell_type": "code",
   "execution_count": 49,
   "id": "b052fdc1-beca-4b3a-8b55-a0e6b7b06cb6",
   "metadata": {},
   "outputs": [
    {
     "data": {
      "text/plain": [
       "LinearRegression()"
      ]
     },
     "execution_count": 49,
     "metadata": {},
     "output_type": "execute_result"
    }
   ],
   "source": [
    "# Create a linear regression model and fit it to the data\n",
    "lr2 = LinearRegression()\n",
    "lr2.fit(X2, y2)"
   ]
  },
  {
   "cell_type": "code",
   "execution_count": 50,
   "id": "6f647554-d287-4b74-92f7-ed67c0429d18",
   "metadata": {},
   "outputs": [
    {
     "name": "stdout",
     "output_type": "stream",
     "text": [
      "Coefficients: [0.00020445]\n",
      "Intercept: -149.70451935518614\n"
     ]
    }
   ],
   "source": [
    "# Make predictions on the training data\n",
    "y_pred2 = lr2.predict(X2)\n",
    "\n",
    "# Calculate the mean squared error\n",
    "mse2 = mean_squared_error(y2, y_pred2)\n",
    "\n",
    "# Print the coefficients and intercept of the linear regression model\n",
    "print(\"Coefficients:\", lr2.coef_)\n",
    "print(\"Intercept:\", lr2.intercept_)"
   ]
  },
  {
   "cell_type": "code",
   "execution_count": 51,
   "id": "b1795956-d600-47cc-a0c9-d746724c30a2",
   "metadata": {},
   "outputs": [
    {
     "data": {
      "image/png": "[encoded data removed]",
      "text/plain": [
       "<Figure size 432x288 with 1 Axes>"
      ]
     },
     "metadata": {
      "needs_background": "light"
     },
     "output_type": "display_data"
    }
   ],
   "source": [
    "# Plot the actual vs. predicted values\n",
    "plt.plot(X2, y2, \"o\", label=\"Actual\")\n",
    "plt.plot(X2, y_pred2, label=\"Predicted\")\n",
    "plt.xlabel(\"Date\")\n",
    "plt.ylabel(\"Total Treatment Time + New Admission Time (hours)\")\n",
    "plt.legend()\n",
    "plt.show()"
   ]
  },
  {
   "cell_type": "code",
   "execution_count": 52,
   "id": "98a0a640-dd37-4681-b5d8-7d087d4f5e2c",
   "metadata": {},
   "outputs": [
    {
     "name": "stdout",
     "output_type": "stream",
     "text": [
      "Average of predicted doctors required for CC5_HDG department is: 1.190319634703199\n"
     ]
    }
   ],
   "source": [
    "avg_pred2 = np.mean(y_pred2)\n",
    "\n",
    "print(\"Average of predicted doctors required for CC5_HDG department is:\", avg_pred2)"
   ]
  },
  {
   "cell_type": "markdown",
   "id": "006d9290-8dc9-4786-be60-dcad67947d6e",
   "metadata": {},
   "source": [
    "## Gradient Boosting Model"
   ]
  },
  {
   "cell_type": "code",
   "execution_count": 53,
   "id": "0a69ab9f-4b97-4b84-9b6e-c9fcade68ba6",
   "metadata": {},
   "outputs": [],
   "source": [
    "# Split the data into training and testing sets\n",
    "X_train2, X_test2, y_train2, y_test2 = train_test_split(X2, y2, test_size=0.2)"
   ]
  },
  {
   "cell_type": "code",
   "execution_count": 54,
   "id": "7f5a615c-794c-4fd2-8c52-7c4f078bce31",
   "metadata": {},
   "outputs": [],
   "source": [
    "gb2 = GradientBoostingRegressor(n_estimators=500, learning_rate=0.05, max_depth=1, random_state=100, loss='squared_error')\n",
    "gb2.fit(X_train2, y_train2)\n",
    "\n",
    "# Make predictions on the training data\n",
    "y_pred_gb2 = gb2.predict(X_test2)\n",
    "\n",
    "# Calculate the mean squared error\n",
    "mse_gb2 = mean_squared_error(y_test2, y_pred_gb2)"
   ]
  },
  {
   "cell_type": "code",
   "execution_count": 55,
   "id": "dd4706fe-7699-4ddc-b59d-1f1f850c613d",
   "metadata": {},
   "outputs": [
    {
     "name": "stdout",
     "output_type": "stream",
     "text": [
      "Mean Squared Error: 0.00719535186118901\n",
      "Accuracy: 0.6750067584596102\n"
     ]
    }
   ],
   "source": [
    "# Print the coefficients and intercept of the linear regression model\n",
    "print(\"Mean Squared Error:\", mse_gb2)\n",
    "print(\"Accuracy:\", gb2.score(X_train2, y_train2))"
   ]
  },
  {
   "cell_type": "code",
   "execution_count": 56,
   "id": "2e6bed6c-ebbc-4453-8b47-7fe134436fa9",
   "metadata": {},
   "outputs": [
    {
     "data": {
      "text/plain": [
       "0.5341950292707309"
      ]
     },
     "execution_count": 56,
     "metadata": {},
     "output_type": "execute_result"
    }
   ],
   "source": [
    "gb2.score(X_test2, y_test2)"
   ]
  },
  {
   "cell_type": "code",
   "execution_count": 57,
   "id": "020925d7-e7d2-41af-af6d-46385eea989f",
   "metadata": {},
   "outputs": [
    {
     "name": "stdout",
     "output_type": "stream",
     "text": [
      "Predicted values: [1.26370966 1.19251926 1.21870916 1.11008049 1.21870916 1.26370966\n",
      " 1.26370966 1.13671246 1.21683909 1.26370966 1.13437519 1.19120995\n",
      " 1.26370966 1.26370966 1.26370966 1.27925192 1.11008049 1.14120758\n",
      " 1.20747491 1.19251926 0.97709679 1.19120995 1.26370966 1.27925192\n",
      " 1.26370966 1.21870916 1.21870916 1.16741074 1.26370966 1.21870916\n",
      " 1.21870916 1.14120758 1.26370966 1.26370966 1.14120758 1.19251926\n",
      " 1.26370966 1.21870916 1.27925192 1.19120995 0.97709679 1.27925192\n",
      " 1.17399473 1.27925192 1.26370966 1.20747491 1.21870916 1.20747491\n",
      " 1.21870916 1.26370966 1.11008049 1.20587372 1.26370966 1.0708562\n",
      " 0.97709679 1.17399473 1.20747491 1.21870916 1.27903483 0.97709679\n",
      " 1.21870916 1.19120995 1.21870916 1.19251926 1.14120758 1.21870916\n",
      " 1.17399473 1.27925192 1.14120758 1.14120758 1.26370966 1.27925192\n",
      " 1.26370966]\n"
     ]
    }
   ],
   "source": [
    "print(\"Predicted values:\", y_pred_gb2)"
   ]
  },
  {
   "cell_type": "code",
   "execution_count": 58,
   "id": "60f81a0e-6246-42a0-8f03-db49f22ece6f",
   "metadata": {},
   "outputs": [
    {
     "name": "stdout",
     "output_type": "stream",
     "text": [
      "Overall average number of doctors required for CC5_HDG department: 1.2017607315891392\n"
     ]
    }
   ],
   "source": [
    "# Calculate the overall average number of doctors required\n",
    "avg_doctors_required2 = np.mean(y_pred_gb2)\n",
    "\n",
    "print(\"Overall average number of doctors required for CC5_HDG department:\", avg_doctors_required2)"
   ]
  },
  {
   "cell_type": "code",
   "execution_count": 59,
   "id": "b29f5b75-c2a7-4c53-8a2a-0c63e8a34df5",
   "metadata": {},
   "outputs": [
    {
     "name": "stdout",
     "output_type": "stream",
     "text": [
      "Best Parameters: {'learning_rate': 0.1, 'n_estimators': 100}\n",
      "Train Score: 0.6579733315801897\n",
      "Test Score: 0.5938301405879922\n"
     ]
    }
   ],
   "source": [
    "from sklearn.model_selection import GridSearchCV\n",
    "\n",
    "grid = {\n",
    "\n",
    "    'learning_rate':[0.01,0.05,0.1],\n",
    "\n",
    "    'n_estimators':np.arange(100,500,100),\n",
    "\n",
    "}\n",
    "\n",
    "\n",
    "gb2 = GradientBoostingRegressor()\n",
    "\n",
    "gb_cv2 = GridSearchCV(gb2, grid, cv = 4)\n",
    "\n",
    "gb_cv2.fit(X_train2,y_train2)\n",
    "\n",
    "print(\"Best Parameters:\",gb_cv2.best_params_)\n",
    "\n",
    "print(\"Train Score:\",gb_cv2.best_score_)\n",
    "\n",
    "print(\"Test Score:\",gb_cv2.score(X_test2,y_test2))"
   ]
  },
  {
   "cell_type": "code",
   "execution_count": 60,
   "id": "40dad763-5591-4b4f-8b01-8a6040046415",
   "metadata": {},
   "outputs": [
    {
     "name": "stdout",
     "output_type": "stream",
     "text": [
      "Accuracy: 0.86000796084639\n",
      "SCore: 0.5938301405879922\n"
     ]
    }
   ],
   "source": [
    "print(\"Accuracy:\", gb_cv2.score(X_train2, y_train2))\n",
    "print(\"SCore:\", gb_cv2.score(X_test2, y_test2))"
   ]
  },
  {
   "cell_type": "markdown",
   "id": "9c70fcf8-9eb2-46fb-b47b-2ba2b5827664",
   "metadata": {},
   "source": [
    "# Nursing Unit - CC6_HDG"
   ]
  },
  {
   "cell_type": "code",
   "execution_count": 61,
   "id": "c5aeb8db-974d-4f80-b8b9-61a01d6ecdc6",
   "metadata": {},
   "outputs": [],
   "source": [
    "# Load the data into a pandas dataframe\n",
    "CC6_HDG = pd.read_excel(\"hospital_data_CC6_HDG.xlsx\")"
   ]
  },
  {
   "cell_type": "code",
   "execution_count": 62,
   "id": "6d771174-0997-4334-811a-0aab14127a87",
   "metadata": {},
   "outputs": [],
   "source": [
    "CC6_HDG['Number of Patients'] = CC6_HDG['Number of Patients'].fillna(0)\n",
    "CC6_HDG['Number of New Admissions'] = CC6_HDG['Number of New Admissions'].fillna(0)"
   ]
  },
  {
   "cell_type": "code",
   "execution_count": 63,
   "id": "05433114-fa0a-4e54-a23f-00547dd6c457",
   "metadata": {},
   "outputs": [],
   "source": [
    "# Create new columns for the total treatment time and new admission time required per day (in hours)\n",
    "CC6_HDG[\"Total Treatment Time\"] = CC6_HDG[\"Number of Patients\"] * 0.5\n",
    "CC6_HDG[\"New Admission Time\"] = CC6_HDG[\"Number of New Admissions\"] * 0.75"
   ]
  },
  {
   "cell_type": "code",
   "execution_count": 64,
   "id": "a32fdde5-ee87-48b3-b7c9-ee5425d583cc",
   "metadata": {},
   "outputs": [],
   "source": [
    "# Convert the 'Census Day' column to datetime objects\n",
    "CC6_HDG['Census Day'] = pd.to_datetime(CC6_HDG['Census Day'])"
   ]
  },
  {
   "cell_type": "code",
   "execution_count": 65,
   "id": "039af1fb-8783-4f00-957d-6f1fcc099c4b",
   "metadata": {},
   "outputs": [],
   "source": [
    "# Define the feature and target variables\n",
    "X3 = CC6_HDG.drop([\"Number of Patients\", \"Number of New Admissions\", \"Total Treatment Time\", \"New Admission Time\"], axis=1)  # Use only the date column as feature\n",
    "y3 = (CC6_HDG[\"Total Treatment Time\"] + CC6_HDG[\"New Admission Time\"])/(7.5)"
   ]
  },
  {
   "cell_type": "code",
   "execution_count": 66,
   "id": "6eddeb01-35de-4ed2-9512-940e83a84c81",
   "metadata": {},
   "outputs": [],
   "source": [
    "# Extract the ordinal value of the dates and store them in a numpy array\n",
    "X3 = np.array([day.toordinal() for day in CC6_HDG['Census Day']])"
   ]
  },
  {
   "cell_type": "code",
   "execution_count": 67,
   "id": "0429139e-4707-4959-8c03-3ad5ff7e87f8",
   "metadata": {},
   "outputs": [],
   "source": [
    "# Reshape the input X to a 2D array with a single feature column\n",
    "X3 = X3.reshape(-1, 1)"
   ]
  },
  {
   "cell_type": "code",
   "execution_count": 68,
   "id": "3c2d1164-3c6c-4358-8a6a-ad1f3bf0fba9",
   "metadata": {},
   "outputs": [
    {
     "data": {
      "text/plain": [
       "LinearRegression()"
      ]
     },
     "execution_count": 68,
     "metadata": {},
     "output_type": "execute_result"
    }
   ],
   "source": [
    "# Create a linear regression model and fit it to the data\n",
    "lr3 = LinearRegression()\n",
    "lr3.fit(X3, y3)"
   ]
  },
  {
   "cell_type": "code",
   "execution_count": 69,
   "id": "a4ff5789-09f7-4c66-b3fd-a6d6a1c19bfe",
   "metadata": {},
   "outputs": [
    {
     "name": "stdout",
     "output_type": "stream",
     "text": [
      "Coefficients: [0.00093424]\n",
      "Intercept: -688.5113159009564\n"
     ]
    }
   ],
   "source": [
    "# Make predictions on the training data\n",
    "y_pred3 = lr3.predict(X3)\n",
    "\n",
    "# Calculate the mean squared error\n",
    "mse3 = mean_squared_error(y3, y_pred3)\n",
    "\n",
    "# Print the coefficients and intercept of the linear regression model\n",
    "print(\"Coefficients:\", lr3.coef_)\n",
    "print(\"Intercept:\", lr3.intercept_)"
   ]
  },
  {
   "cell_type": "code",
   "execution_count": 70,
   "id": "9fc1c247-ed2e-41e0-9212-197a37381fc6",
   "metadata": {},
   "outputs": [
    {
     "data": {
      "image/png": "[encoded data removed]",
      "text/plain": [
       "<Figure size 432x288 with 1 Axes>"
      ]
     },
     "metadata": {
      "needs_background": "light"
     },
     "output_type": "display_data"
    }
   ],
   "source": [
    "# Plot the actual vs. predicted values\n",
    "plt.plot(X3, y3, \"o\", label=\"Actual\")\n",
    "plt.plot(X3, y_pred3, label=\"Predicted\")\n",
    "plt.xlabel(\"Date\")\n",
    "plt.ylabel(\"Total Treatment Time + New Admission Time (hours)\")\n",
    "plt.legend()\n",
    "plt.show()"
   ]
  },
  {
   "cell_type": "code",
   "execution_count": 71,
   "id": "590e3af7-8b92-4298-8ec7-ec2cad71075c",
   "metadata": {},
   "outputs": [
    {
     "name": "stdout",
     "output_type": "stream",
     "text": [
      "Average of predicted doctors required for CC6_HDG department is: 1.018721461187225\n"
     ]
    }
   ],
   "source": [
    "avg_pred3 = np.mean(y_pred3)\n",
    "\n",
    "print(\"Average of predicted doctors required for CC6_HDG department is:\", avg_pred3)"
   ]
  },
  {
   "cell_type": "markdown",
   "id": "14267237-187b-4152-84dd-1234ae375ade",
   "metadata": {},
   "source": [
    "## Gradient Boosting Model"
   ]
  },
  {
   "cell_type": "code",
   "execution_count": 72,
   "id": "af2e348d-a685-4bde-bd71-5c49149716c4",
   "metadata": {},
   "outputs": [],
   "source": [
    "# Split the data into training and testing sets\n",
    "X_train3, X_test3, y_train3, y_test3 = train_test_split(X3, y3, test_size=0.2)"
   ]
  },
  {
   "cell_type": "code",
   "execution_count": 73,
   "id": "7203d583-4b41-4f8a-9443-1ec7db4c4bce",
   "metadata": {},
   "outputs": [],
   "source": [
    "gb3 = GradientBoostingRegressor(n_estimators=500, learning_rate=0.05, max_depth=1, random_state=100, loss='squared_error')\n",
    "gb3.fit(X_train3, y_train3)\n",
    "\n",
    "# Make predictions on the training data\n",
    "y_pred_gb3 = gb3.predict(X_test3)\n",
    "\n",
    "# Calculate the mean squared error\n",
    "mse_gb3 = mean_squared_error(y_test3, y_pred_gb3)"
   ]
  },
  {
   "cell_type": "code",
   "execution_count": 74,
   "id": "b47249f4-a5f5-47a0-97f3-b9d6c835d94f",
   "metadata": {},
   "outputs": [
    {
     "name": "stdout",
     "output_type": "stream",
     "text": [
      "Mean Squared Error: 0.009116653861208858\n",
      "Accuracy: 0.934472487514438\n"
     ]
    }
   ],
   "source": [
    "# Print the coefficients and intercept of the linear regression model\n",
    "print(\"Mean Squared Error:\", mse_gb3)\n",
    "print(\"Accuracy:\", gb3.score(X_train3, y_train3))"
   ]
  },
  {
   "cell_type": "code",
   "execution_count": 75,
   "id": "5bade840-fc79-40cd-ab51-4fe4ed609626",
   "metadata": {},
   "outputs": [
    {
     "data": {
      "text/plain": [
       "0.9323147765872485"
      ]
     },
     "execution_count": 75,
     "metadata": {},
     "output_type": "execute_result"
    }
   ],
   "source": [
    "gb3.score(X_test3, y_test3)"
   ]
  },
  {
   "cell_type": "code",
   "execution_count": 76,
   "id": "584d56fe-8340-4e10-9d92-08716af2739c",
   "metadata": {},
   "outputs": [
    {
     "name": "stdout",
     "output_type": "stream",
     "text": [
      "Predicted values: [1.244323   0.99727815 1.244323   1.244323   1.21810316 1.244323\n",
      " 0.99468495 1.03015883 0.94805948 1.244323   1.03015883 1.244323\n",
      " 1.244323   0.18134192 1.03015883 1.03015883 0.18134192 1.03015883\n",
      " 1.244323   1.244323   0.99727815 1.244323   1.244323   0.97360355\n",
      " 1.03015883 1.244323   0.99727815 1.03015883 1.03015883 1.03015883\n",
      " 0.18134192 1.03015883 0.95495418 0.18134192 1.03015883 1.03015883\n",
      " 0.18134192 1.244323   1.03015883 1.03015883 1.244323   0.91407216\n",
      " 1.244323   1.244323   1.244323   0.97360355 0.99727815 1.244323\n",
      " 1.244323   1.21810316 0.95495418 1.244323   0.18134192 1.03015883\n",
      " 1.244323   0.97360355 1.244323   1.244323   1.244323   1.03015883\n",
      " 1.03015883 1.21810316 1.03015883 1.03015883 1.03015883 0.18134192\n",
      " 0.99468495 1.244323   1.03015883 0.99727815 1.244323   1.244323\n",
      " 0.18134192]\n"
     ]
    }
   ],
   "source": [
    "print(\"Predicted values:\", y_pred_gb3)"
   ]
  },
  {
   "cell_type": "code",
   "execution_count": 77,
   "id": "a05bc8f1-1f38-4817-9ff5-fd0e69b9182d",
   "metadata": {},
   "outputs": [
    {
     "name": "stdout",
     "output_type": "stream",
     "text": [
      "Overall average number of doctors required for CC6_HDG department: 1.0137494880773337\n"
     ]
    }
   ],
   "source": [
    "# Calculate the overall average number of doctors required\n",
    "avg_doctors_required3 = np.mean(y_pred_gb3)\n",
    "\n",
    "print(\"Overall average number of doctors required for CC6_HDG department:\", avg_doctors_required3)"
   ]
  },
  {
   "cell_type": "code",
   "execution_count": 78,
   "id": "bb49fb38-9b85-47de-85c3-f166a4276d70",
   "metadata": {},
   "outputs": [
    {
     "name": "stdout",
     "output_type": "stream",
     "text": [
      "Best Parameters: {'learning_rate': 0.05, 'n_estimators': 100}\n",
      "Train Score: 0.9309754008205903\n",
      "Test Score: 0.9690689383338473\n"
     ]
    }
   ],
   "source": [
    "from sklearn.model_selection import GridSearchCV\n",
    "\n",
    "grid = {\n",
    "\n",
    "    'learning_rate':[0.01,0.05,0.1],\n",
    "\n",
    "    'n_estimators':np.arange(100,500,100),\n",
    "\n",
    "}\n",
    "\n",
    "\n",
    "gb3 = GradientBoostingRegressor()\n",
    "\n",
    "gb_cv3 = GridSearchCV(gb3, grid, cv = 4)\n",
    "\n",
    "gb_cv3.fit(X_train3,y_train3)\n",
    "\n",
    "print(\"Best Parameters:\",gb_cv3.best_params_)\n",
    "\n",
    "print(\"Train Score:\",gb_cv3.best_score_)\n",
    "\n",
    "print(\"Test Score:\",gb_cv3.score(X_test3,y_test3))"
   ]
  },
  {
   "cell_type": "code",
   "execution_count": 79,
   "id": "f1645413-583c-4e26-937a-34ef5d9a4f81",
   "metadata": {},
   "outputs": [
    {
     "name": "stdout",
     "output_type": "stream",
     "text": [
      "Accuracy: 0.9724651630004384\n",
      "SCore: 0.9690689383338473\n"
     ]
    }
   ],
   "source": [
    "print(\"Accuracy:\", gb_cv3.score(X_train3, y_train3))\n",
    "print(\"SCore:\", gb_cv3.score(X_test3, y_test3))"
   ]
  },
  {
   "cell_type": "markdown",
   "id": "cddac810-ee19-41d0-bd02-e9885ffbfff5",
   "metadata": {},
   "source": [
    "# Nursing Unit - CC7_HDG"
   ]
  },
  {
   "cell_type": "code",
   "execution_count": 80,
   "id": "2dab4cc0-9131-4941-849c-6765ab31d1d4",
   "metadata": {},
   "outputs": [],
   "source": [
    "# Load the data into a pandas dataframe\n",
    "CC7_HDG = pd.read_excel(\"hospital_data_CC7_HDG.xlsx\")"
   ]
  },
  {
   "cell_type": "code",
   "execution_count": 81,
   "id": "8698fe12-c639-4d0e-a9eb-8ad83ef6bbd1",
   "metadata": {},
   "outputs": [],
   "source": [
    "CC7_HDG['Number of Patients'] = CC7_HDG['Number of Patients'].fillna(0)\n",
    "CC7_HDG['Number of New Admissions'] = CC7_HDG['Number of New Admissions'].fillna(0)"
   ]
  },
  {
   "cell_type": "code",
   "execution_count": 82,
   "id": "9eab0f85-58d8-48b3-a9c4-91bd90d2a2f5",
   "metadata": {},
   "outputs": [],
   "source": [
    "# Create new columns for the total treatment time and new admission time required per day (in hours)\n",
    "CC7_HDG[\"Total Treatment Time\"] = CC7_HDG[\"Number of Patients\"] * 0.5\n",
    "CC7_HDG[\"New Admission Time\"] = CC7_HDG[\"Number of New Admissions\"] * 0.75"
   ]
  },
  {
   "cell_type": "code",
   "execution_count": 83,
   "id": "9fcb996c-3839-40ed-ba2f-edba449c0763",
   "metadata": {},
   "outputs": [],
   "source": [
    "# Convert the 'Census Day' column to datetime objects\n",
    "CC7_HDG['Census Day'] = pd.to_datetime(CC7_HDG['Census Day'])"
   ]
  },
  {
   "cell_type": "code",
   "execution_count": 84,
   "id": "70672df2-0640-4dda-b457-f6f48e742727",
   "metadata": {},
   "outputs": [],
   "source": [
    "# Define the feature and target variables\n",
    "X4 = CC7_HDG.drop([\"Number of Patients\", \"Number of New Admissions\", \"Total Treatment Time\", \"New Admission Time\"], axis=1)  # Use only the date column as feature\n",
    "y4 = (CC7_HDG[\"Total Treatment Time\"] + CC7_HDG[\"New Admission Time\"])/(7.5)"
   ]
  },
  {
   "cell_type": "code",
   "execution_count": 85,
   "id": "c3647cfa-f6d5-461d-8f76-91fec0d07e1e",
   "metadata": {},
   "outputs": [],
   "source": [
    "# Extract the ordinal value of the dates and store them in a numpy array\n",
    "X4 = np.array([day.toordinal() for day in CC7_HDG['Census Day']])"
   ]
  },
  {
   "cell_type": "code",
   "execution_count": 86,
   "id": "98691884-1935-478b-b024-d5d3a0c7e8b3",
   "metadata": {},
   "outputs": [],
   "source": [
    "# Reshape the input X to a 2D array with a single feature column\n",
    "X4 = X4.reshape(-1, 1)"
   ]
  },
  {
   "cell_type": "code",
   "execution_count": 87,
   "id": "dda5383e-f6cb-4494-b0b4-5ebbbe510278",
   "metadata": {},
   "outputs": [
    {
     "data": {
      "text/plain": [
       "LinearRegression()"
      ]
     },
     "execution_count": 87,
     "metadata": {},
     "output_type": "execute_result"
    }
   ],
   "source": [
    "# Create a linear regression model and fit it to the data\n",
    "lr4 = LinearRegression()\n",
    "lr4.fit(X4, y4)"
   ]
  },
  {
   "cell_type": "code",
   "execution_count": 88,
   "id": "166abf51-b4a6-4849-9fdd-5f4c1562c90d",
   "metadata": {},
   "outputs": [
    {
     "name": "stdout",
     "output_type": "stream",
     "text": [
      "Coefficients: [0.00063363]\n",
      "Intercept: -466.4994588247293\n"
     ]
    }
   ],
   "source": [
    "# Make predictions on the training data\n",
    "y_pred4 = lr4.predict(X4)\n",
    "\n",
    "# Calculate the mean squared error\n",
    "mse4 = mean_squared_error(y4, y_pred4)\n",
    "\n",
    "# Print the coefficients and intercept of the linear regression model\n",
    "print(\"Coefficients:\", lr4.coef_)\n",
    "print(\"Intercept:\", lr4.intercept_)"
   ]
  },
  {
   "cell_type": "code",
   "execution_count": 89,
   "id": "11b877c9-3f5e-4e80-a9ef-6734270d4af9",
   "metadata": {},
   "outputs": [
    {
     "data": {
      "image/png": "[encoded data removed]",
      "text/plain": [
       "<Figure size 432x288 with 1 Axes>"
      ]
     },
     "metadata": {
      "needs_background": "light"
     },
     "output_type": "display_data"
    }
   ],
   "source": [
    "# Plot the actual vs. predicted values\n",
    "plt.plot(X4, y4, \"o\", label=\"Actual\")\n",
    "plt.plot(X4, y_pred4, label=\"Predicted\")\n",
    "plt.xlabel(\"Date\")\n",
    "plt.ylabel(\"Total Treatment Time + New Admission Time (hours)\")\n",
    "plt.legend()\n",
    "plt.show()"
   ]
  },
  {
   "cell_type": "code",
   "execution_count": 90,
   "id": "1610ed2b-5026-4bcb-8549-1f80331dd5ab",
   "metadata": {},
   "outputs": [
    {
     "name": "stdout",
     "output_type": "stream",
     "text": [
      "Average of predicted doctors required for CC7_HDG department is: 1.1628310502282884\n"
     ]
    }
   ],
   "source": [
    "avg_pred4 = np.mean(y_pred4)\n",
    "\n",
    "print(\"Average of predicted doctors required for CC7_HDG department is:\", avg_pred4)"
   ]
  },
  {
   "cell_type": "markdown",
   "id": "57a29f54-df6d-4dc8-88f7-a9bfe132425b",
   "metadata": {},
   "source": [
    "## Gradient Boosting Model"
   ]
  },
  {
   "cell_type": "code",
   "execution_count": 91,
   "id": "293f0b96-83d6-499d-bc11-d73a9a02b1b3",
   "metadata": {},
   "outputs": [],
   "source": [
    "# Split the data into training and testing sets\n",
    "X_train4, X_test4, y_train4, y_test4 = train_test_split(X4, y4, test_size=0.2)"
   ]
  },
  {
   "cell_type": "code",
   "execution_count": 92,
   "id": "7baec883-8506-4556-981c-01ce6b9dbaea",
   "metadata": {},
   "outputs": [],
   "source": [
    "gb4 = GradientBoostingRegressor(n_estimators=500, learning_rate=0.05, max_depth=1, random_state=100, loss='squared_error')\n",
    "gb4.fit(X_train4, y_train4)\n",
    "\n",
    "# Make predictions on the training data\n",
    "y_pred_gb4 = gb4.predict(X_test4)\n",
    "\n",
    "# Calculate the mean squared error\n",
    "mse_gb4 = mean_squared_error(y_test4, y_pred_gb4)"
   ]
  },
  {
   "cell_type": "code",
   "execution_count": 93,
   "id": "a64adce9-720d-474d-9e2a-ada7719d8269",
   "metadata": {},
   "outputs": [
    {
     "name": "stdout",
     "output_type": "stream",
     "text": [
      "Mean Squared Error: 0.007498644199159321\n",
      "Accuracy: 0.6440759964282521\n"
     ]
    }
   ],
   "source": [
    "# Print the coefficients and intercept of the linear regression model\n",
    "print(\"Mean Squared Error:\", mse_gb4)\n",
    "print(\"Accuracy:\", gb4.score(X_train4, y_train4))"
   ]
  },
  {
   "cell_type": "code",
   "execution_count": 94,
   "id": "80d5e709-93d0-4a83-91a1-4bd0870e1899",
   "metadata": {},
   "outputs": [
    {
     "data": {
      "text/plain": [
       "0.5470954130114343"
      ]
     },
     "execution_count": 94,
     "metadata": {},
     "output_type": "execute_result"
    }
   ],
   "source": [
    "gb4.score(X_test4, y_test4)"
   ]
  },
  {
   "cell_type": "code",
   "execution_count": 95,
   "id": "86d45eb0-e721-4077-9207-3d0c7fdc835b",
   "metadata": {},
   "outputs": [
    {
     "name": "stdout",
     "output_type": "stream",
     "text": [
      "Predicted values: [1.13050365 1.27106618 1.27106618 1.21177624 1.21050789 1.08802926\n",
      " 1.21177624 0.99161961 1.08802926 1.08802926 1.08802926 1.08253826\n",
      " 1.21177624 1.21177624 1.08253826 1.21177624 1.27106618 1.03445479\n",
      " 1.17087208 1.21177624 1.21177624 1.21177624 1.02519078 1.27106618\n",
      " 1.27106618 1.08253826 1.21177624 1.12822268 1.21177624 1.21050789\n",
      " 1.21177624 1.19453321 1.21177624 1.13050365 1.21177624 1.27106618\n",
      " 1.21177624 1.05788826 1.27106618 1.12822268 1.21177624 1.27106618\n",
      " 1.13050365 1.08253826 1.27106618 1.21177624 1.08802926 1.02519078\n",
      " 1.08253826 1.02519078 1.12896875 1.19453321 1.21177624 1.08802926\n",
      " 1.10495573 1.05788826 1.21177624 1.27106618 1.13050365 1.21177624\n",
      " 1.21177624 1.27106618 1.21177624 1.13050365 1.27106618 1.08253826\n",
      " 1.08253826 1.21177624 1.21177624 1.02349105 1.08253826 1.21177624\n",
      " 1.02349105]\n"
     ]
    }
   ],
   "source": [
    "print(\"Predicted values:\", y_pred_gb4)"
   ]
  },
  {
   "cell_type": "code",
   "execution_count": 96,
   "id": "395fd5b4-aee9-453f-a166-6d1fe54dc832",
   "metadata": {},
   "outputs": [
    {
     "name": "stdout",
     "output_type": "stream",
     "text": [
      "Overall average number of doctors required for CC7_HDG department: 1.1631801819051335\n"
     ]
    }
   ],
   "source": [
    "# Calculate the overall average number of doctors required\n",
    "avg_doctors_required4 = np.mean(y_pred_gb4)\n",
    "\n",
    "print(\"Overall average number of doctors required for CC7_HDG department:\", avg_doctors_required4)"
   ]
  },
  {
   "cell_type": "code",
   "execution_count": 97,
   "id": "63006656-59c0-49cb-9e70-0d5c637dff6e",
   "metadata": {},
   "outputs": [
    {
     "name": "stdout",
     "output_type": "stream",
     "text": [
      "Best Parameters: {'learning_rate': 0.1, 'n_estimators': 100}\n",
      "Train Score: 0.7362302640308875\n",
      "Test Score: 0.7501413451056353\n"
     ]
    }
   ],
   "source": [
    "from sklearn.model_selection import GridSearchCV\n",
    "\n",
    "grid = {\n",
    "\n",
    "    'learning_rate':[0.01,0.05,0.1],\n",
    "\n",
    "    'n_estimators':np.arange(100,500,100),\n",
    "\n",
    "}\n",
    "\n",
    "\n",
    "gb4 = GradientBoostingRegressor()\n",
    "\n",
    "gb_cv4 = GridSearchCV(gb4, grid, cv = 4)\n",
    "\n",
    "gb_cv4.fit(X_train4,y_train4)\n",
    "\n",
    "print(\"Best Parameters:\",gb_cv4.best_params_)\n",
    "\n",
    "print(\"Train Score:\",gb_cv4.best_score_)\n",
    "\n",
    "print(\"Test Score:\",gb_cv4.score(X_test4,y_test4))"
   ]
  },
  {
   "cell_type": "code",
   "execution_count": 98,
   "id": "5ccf84f0-3929-4840-b5e9-5fd7f995650d",
   "metadata": {},
   "outputs": [
    {
     "name": "stdout",
     "output_type": "stream",
     "text": [
      "Accuracy: 0.9069248057131727\n",
      "SCore: 0.7501413451056353\n"
     ]
    }
   ],
   "source": [
    "print(\"Accuracy:\", gb_cv4.score(X_train4, y_train4))\n",
    "print(\"SCore:\", gb_cv4.score(X_test4, y_test4))"
   ]
  },
  {
   "cell_type": "markdown",
   "id": "2ab5d266-f2c3-465c-9e53-bf0a35cdbb07",
   "metadata": {},
   "source": [
    "### Summary:\n",
    "\n",
    "Full Time Employees needed for each nursing unit is as follows along with the model accuracy.\n",
    "\n",
    "1. **CC3_HDG** : Average of predicted doctors required for CC3_HDG department is: 1.123347068666334 as predicted by the model. Based on this we can safely assume that **maximum of 2 PT/OT employees** are needed per day to provide efficient medical care. The accuracy of the train and test data is as below after applying gradient boosting.\n",
    "\n",
    "    Accuracy: **0.9342757205718003**\n",
    "    \n",
    "    SCore: **0.8256051545297987**\n",
    "    \n",
    "\n",
    "2. **CC4_HDG** : Average of predicted doctors required for CC4_HDG department is: 1.1169564328371873 as predicted by the model. Based on this we can safely assume that **maximum of 2 PT/OT employees** are needed per day to provide efficient medical care. The accuracy of the train and test data is as below after applying gradient boosting.\n",
    "\n",
    "    Accuracy: **0.9702100661535358**\n",
    "    \n",
    "    SCore: **0.8690965331740891**\n",
    "    \n",
    "      \n",
    "3. **CC5_HDG** : Average of predicted doctors required for CC5_HDG department is: 1.2017607315891392 as predicted by the model. Based on this we can safely assume that **maximum of 2 PT/OT employees** are needed per day to provide efficient medical care. The accuracy of the train and test data is as below after applying gradient boosting.\n",
    "\n",
    "    Accuracy: **0.86000796084639**\n",
    "    \n",
    "    SCore: **0.5938301405879922**\n",
    "  \n",
    "   \n",
    "4. **CC6_HDG** : Average of predicted doctors required for CC6_HDG department is: 1.0137494880773337 as predicted by the model. Based on this we can safely assume that **maximum of 2 PT/OT employees** are needed per day to provide efficient medical care. The accuracy of the train and test data is as below after applying gradient boosting.\n",
    "\n",
    "    Accuracy: **0.9724651630004384**\n",
    "    \n",
    "    SCore: **0.9690689383338473**  \n",
    "   \n",
    "   \n",
    "5. **CC7_HDG** : Average of predicted doctors required for CC7_HDG department is: 1.1631801819051335 as predicted by the model. Based on this we can safely assume that **maximum of 2 PT/OT employees** are needed per day to provide efficient medical care. The accuracy of the train and test data is as below after applying gradient boosting.\n",
    "\n",
    "    Accuracy: **0.9069248057131727**\n",
    "    \n",
    "    SCore: **0.7501413451056353**  \n",
    "   "
   ]
  },
  {
   "cell_type": "code",
   "execution_count": null,
   "id": "a3285c97-b97e-4845-9045-ebfe936321b6",
   "metadata": {},
   "outputs": [],
   "source": []
  }
 ],
 "metadata": {
  "kernelspec": {
   "display_name": "Python 3 (ipykernel)",
   "language": "python",
   "name": "python3"
  },
  "language_info": {
   "codemirror_mode": {
    "name": "ipython",
    "version": 3
   },
   "file_extension": ".py",
   "mimetype": "text/x-python",
   "name": "python",
   "nbconvert_exporter": "python",
   "pygments_lexer": "ipython3",
   "version": "3.9.7"
  }
 },
 "nbformat": 4,
 "nbformat_minor": 5
}
